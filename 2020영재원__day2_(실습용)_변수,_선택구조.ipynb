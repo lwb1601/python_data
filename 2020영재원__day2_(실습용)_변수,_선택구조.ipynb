{
  "nbformat": 4,
  "nbformat_minor": 0,
  "metadata": {
    "colab": {
      "name": "2020영재원_ day2 (실습용) 변수, 선택구조.ipynb",
      "provenance": [],
      "collapsed_sections": [],
      "include_colab_link": true
    },
    "kernelspec": {
      "name": "python3",
      "display_name": "Python 3"
    }
  },
  "cells": [
    {
      "cell_type": "markdown",
      "metadata": {
        "id": "view-in-github",
        "colab_type": "text"
      },
      "source": [
        "<a href=\"https://colab.research.google.com/github/lwb1601/python_data/blob/main/2020%EC%98%81%EC%9E%AC%EC%9B%90__day2_(%EC%8B%A4%EC%8A%B5%EC%9A%A9)_%EB%B3%80%EC%88%98%2C_%EC%84%A0%ED%83%9D%EA%B5%AC%EC%A1%B0.ipynb\" target=\"_parent\"><img src=\"https://colab.research.google.com/assets/colab-badge.svg\" alt=\"Open In Colab\"/></a>"
      ]
    },
    {
      "cell_type": "markdown",
      "metadata": {
        "id": "ZstKKkcrGzaS"
      },
      "source": [
        "# 1. 지난시간 복습\n",
        "\n",
        "<img src='https://github.com/Ahnjihye/allinone_AI/blob/images/0_%EB%AA%85%EB%A0%B9%EC%96%B4.png?raw=true' width=400>\n",
        "        \n"
      ]
    },
    {
      "cell_type": "markdown",
      "metadata": {
        "id": "9QBQme8AHpW9"
      },
      "source": [
        "     \n",
        "### 출력 명령어 print()\n",
        "```\n",
        "print(출력할 내용)\n",
        "```"
      ]
    },
    {
      "cell_type": "code",
      "metadata": {
        "id": "MDVJZn1ZMfNc"
      },
      "source": [
        "# 복습 1\n",
        "# 본인 생일 8개 숫자로 출력하기\n"
      ],
      "execution_count": null,
      "outputs": []
    },
    {
      "cell_type": "markdown",
      "metadata": {
        "id": "5_-ZLMLdMfVE"
      },
      "source": [
        "#### 문자는 따옴표로 감싸주자!\n",
        "``` \n",
        "print(이름)    # 에러 발생\n",
        "```\n",
        "```\n",
        "print('이름')  # 정상 실행\n",
        "```\n"
      ]
    },
    {
      "cell_type": "code",
      "metadata": {
        "id": "oxgReflgDjvy"
      },
      "source": [
        "# 복습 2 \n",
        "# 가장 좋아하는 계절 출력하기\n"
      ],
      "execution_count": null,
      "outputs": []
    },
    {
      "cell_type": "markdown",
      "metadata": {
        "id": "GzEKjyAJH3DO"
      },
      "source": [
        "### 2. 입력 명령어 input()\n",
        "\n",
        "```\n",
        "input()\n",
        "```\n",
        "\n",
        "#### 입력안내문 넣기\n",
        "```\n",
        "input('입력안내문')\n",
        "```"
      ]
    },
    {
      "cell_type": "code",
      "metadata": {
        "id": "Br9ZjQiOGx_8"
      },
      "source": [
        "# 복습 3  \n",
        "# 학번을 입력받는 칸을 만들어보시오 \n"
      ],
      "execution_count": null,
      "outputs": []
    },
    {
      "cell_type": "markdown",
      "metadata": {
        "id": "kza4BGSuIQtw"
      },
      "source": [
        "### 3. 변수 : 데이터를 저장하는 공간\n",
        "```\n",
        "변수이름 = 저장할 데이터\n",
        "```\n",
        "```\n",
        "a = 10\n",
        "```\n",
        "<img src = 'https://github.com/Ahnjihye/allinone_AI/blob/images/1_%EB%B3%80%EC%88%98.png?raw=true' width =500>\n",
        "\n",
        "```\n",
        "name = '안지혜'\n",
        "school = '관악고'\n",
        "```"
      ]
    },
    {
      "cell_type": "code",
      "metadata": {
        "id": "G8-f41AQGyI7"
      },
      "source": [
        "# 복습 4  \n",
        "# 이름, 좋아하는 계절, 생일을 각각 다른 변수에 저장하시오\n",
        "# 변수 이름은 본인 맘대로 가능 (잘 생각 안나면 name, season, birthday로 해도 됨)\n",
        "\n"
      ],
      "execution_count": null,
      "outputs": []
    },
    {
      "cell_type": "markdown",
      "metadata": {
        "id": "hFXRLcteMhQ8"
      },
      "source": [
        "#### 여러 요소 결합하여 출력하기 - 콤마로 연결하여 print()\n",
        "\n",
        "```\n",
        "print(내용1, 내용2, 내용3)\n",
        "```"
      ]
    },
    {
      "cell_type": "code",
      "metadata": {
        "id": "kQJ2N9kNGx7I"
      },
      "source": [
        "# 복습 5\n",
        "# 위에서 만든 변수를 활용하여\n",
        "# [생일]에 태어난 [본인이름]은 [계절]을 좋아한다. 출력\n",
        "\n"
      ],
      "execution_count": null,
      "outputs": []
    },
    {
      "cell_type": "markdown",
      "metadata": {
        "id": "IOdruSfrLTi4"
      },
      "source": [
        "#### 입력받아 변수에 저장하기\n",
        "\n",
        "```\n",
        "변수이름 = input()\n",
        "```\n",
        "<img src=\"https://github.com/Ahnjihye/allinone_AI/blob/images/%EC%9D%B4%EB%AF%B8%EC%A7%80%20003.png?raw=true\" width=400>\n"
      ]
    },
    {
      "cell_type": "code",
      "metadata": {
        "id": "BJnXNKXgGyN0"
      },
      "source": [
        "# 복습 6\n",
        "# 닉네임을 입력받은 후, \"[닉네임]님 안녕하세요\"라고 출력하기\n",
        "\n"
      ],
      "execution_count": null,
      "outputs": []
    },
    {
      "cell_type": "markdown",
      "metadata": {
        "id": "7PSfMqiCMKvK"
      },
      "source": [
        "#### 변수의 데이터타입 \n",
        "\n",
        "변수에 저장된 데이터에 따라 변수의 데이터타입이 결정된다.! \n",
        "\n",
        "```\n",
        "정수 int\n",
        "실수 float\n",
        "문자 str\n",
        "```\n",
        "데이터 타입을 알려주는 명령어\n",
        "```\n",
        "type(변수이름)\n",
        "```\n",
        "\n"
      ]
    },
    {
      "cell_type": "code",
      "metadata": {
        "id": "4k6MWHyBGyHQ"
      },
      "source": [
        "# 복습 6\n",
        "# 위에서 만든 변수 name의 데이터타입 출력\n",
        "\n"
      ],
      "execution_count": null,
      "outputs": []
    },
    {
      "cell_type": "code",
      "metadata": {
        "id": "Ptsj_Xa2Gx-H"
      },
      "source": [
        "# 복습 7\n",
        "# 위에서 만든 변수 birthday의 데이터타입 출력\n",
        "\n"
      ],
      "execution_count": null,
      "outputs": []
    },
    {
      "cell_type": "markdown",
      "metadata": {
        "id": "v8QtmFn2TbZy"
      },
      "source": [
        "#### 데이터타입 변경하기\n",
        "변경하려는 데이터타입으로 감싸주기\n",
        "</br>\n",
        "</br>\n",
        "정수(int)로 변경하기\n",
        "```\n",
        "int(변수)\n",
        "```\n",
        "실수(float)로 변경하기\n",
        "```\n",
        "float(변수)\n",
        "```\n",
        "문자(str)로 변경하기\n",
        "```\n",
        "str(변수)\n",
        "```"
      ]
    },
    {
      "cell_type": "code",
      "metadata": {
        "id": "I-pZHRcvGx5D"
      },
      "source": [
        "# 복습 8\n",
        "# 위에서 만든 변수 birthday를 정수로 변경하고 \n",
        "# 데이터 타입 출력해보기\n",
        "\n"
      ],
      "execution_count": null,
      "outputs": []
    },
    {
      "cell_type": "markdown",
      "metadata": {
        "id": "6Bk7mvyPUZWK"
      },
      "source": [
        "### 미니 프로젝트\n",
        "<img src='https://github.com/Ahnjihye/allinone_AI/blob/images/36_%EC%9B%90%20%EB%84%93%EC%9D%B4,%20%EB%91%98%EB%A0%88%20%EB%93%B1.png?raw=true' width = 400>\n",
        "\n",
        "\n",
        "1. 원의 반지름을 입력받아\n",
        "\n",
        "2. 원의 둘레(c_len), 넓이(c_area),  구의 넓이(s_area), 구의 부피(s_volume)를 구하는 프로그램을 작성하시오. \n",
        "\n",
        "3. pie = 3.141592"
      ]
    },
    {
      "cell_type": "code",
      "metadata": {
        "id": "Hu3jHckrT_PJ"
      },
      "source": [
        "'''\n",
        "\n",
        "\n",
        "코드 작성 부분!!\n",
        "\n",
        "\n",
        "'''\n",
        "\n",
        "print('원의 둘레와 넓이는',c_len, c_area)\n",
        "print('구의 겉넓이와 부피는',s_area, s_volume)"
      ],
      "execution_count": null,
      "outputs": []
    },
    {
      "cell_type": "markdown",
      "metadata": {
        "id": "q05bhR8dZ6C1"
      },
      "source": [
        "# 2. 선택구조 - 조건문\n",
        "\n",
        "지금까지의 명령어는 항상 실행되는 명령어 \n",
        "</br>\n",
        "</br>\n",
        "조건을 충족할 때만 실행되거나/ 실행되지 않는 명령어\n",
        "</br>\n",
        "</br>\n",
        "<img src='https://github.com/Ahnjihye/allinone_AI/blob/images/10_%EC%84%A0%ED%83%9D%EA%B5%AC%EC%A1%B0%20%EC%98%88%EC%8B%9C%20png.png?raw=true' >\n",
        "\n",
        "**선택구조 : 조건을 충족할 때에만 선택적으로 실행되는 명령어**\n",
        "</br>\n",
        "**=조건문 이라고도 함**\n"
      ]
    },
    {
      "cell_type": "markdown",
      "metadata": {
        "id": "diXyIg91fcvX"
      },
      "source": [
        "< 생각해보기 >     \n",
        "일상생활에서 조건문의 예시는 뭐가 있을까? \n",
        "\n",
        "더블클릭하여 아래 빈칸에 예시를 세개 이상 작성해보자. \n",
        "\n",
        "1.   예시1 작성\n",
        "\n",
        "2.   예시2 작성\n",
        "\n",
        "3.   예시3 작성\n",
        "\n"
      ]
    },
    {
      "cell_type": "markdown",
      "metadata": {
        "id": "auukEYYpfagS"
      },
      "source": [
        "**파이썬으로 if- 조건문 표현하는 방법** \n",
        "<img src = 'https://github.com/Ahnjihye/allinone_AI/blob/images/10_%EC%84%A0%ED%83%9D%EA%B5%AC%EC%A1%B0.png?raw=true' width = 500>\n",
        "\n",
        "```\n",
        "if 성인 : \n",
        "    print('술을 구매할 수 있습니다')\n",
        "```"
      ]
    },
    {
      "cell_type": "code",
      "metadata": {
        "id": "h0ZqzomwdwS1"
      },
      "source": [
        "\n"
      ],
      "execution_count": null,
      "outputs": []
    },
    {
      "cell_type": "code",
      "metadata": {
        "id": "Dx6fipiEc7vy"
      },
      "source": [
        "\n"
      ],
      "execution_count": null,
      "outputs": []
    },
    {
      "cell_type": "markdown",
      "metadata": {
        "id": "nMMXlvZcgwI8"
      },
      "source": [
        "조건문에서는 들여쓰기를 조심하세요!\n",
        "</br>\n",
        "<img src ='https://github.com/Ahnjihye/allinone_AI/blob/images/10_%EC%84%A0%ED%83%9D%EA%B5%AC%EC%A1%B0%20%EB%93%A4%EC%97%AC%EC%93%B0%EA%B8%B0%20png.png?raw=true' width=200>\n",
        "</br>\n",
        "</br>\n",
        "**코랩 탭설정하기**</br>\n",
        "<img src='https://github.com/Ahnjihye/allinone_AI/blob/images/37_%EC%BD%94%EB%9E%A9%20%ED%83%AD%EC%84%A4%EC%A0%95.png?raw=true\n",
        "' width=400>"
      ]
    },
    {
      "cell_type": "code",
      "metadata": {
        "id": "67u3jd-BZt61"
      },
      "source": [
        "# 조건을 변경하여 \n",
        "# 미성년자일 경우 술을 구매할 수 없다고 출력하기\n",
        "\n"
      ],
      "execution_count": null,
      "outputs": []
    },
    {
      "cell_type": "code",
      "metadata": {
        "id": "8cqgUnP7hwQ9"
      },
      "source": [
        "# 실습 1\n",
        "# 나이를 입력받고, 입력받은 나이가 미성년자이면\n",
        "# 술을 구매할 수 없다고 출력하기\n",
        "\n"
      ],
      "execution_count": null,
      "outputs": []
    },
    {
      "cell_type": "code",
      "metadata": {
        "id": "3Tbd7iG-iUPY"
      },
      "source": [
        "# 실습 2 - 위 코드에 다음을 추가하시오\n",
        "# **년 후 성인이 되면 다시 오세요! \n",
        "# **은 성인이 되기까지 남은 햇수 (18세는 2년후, 17세는 3년후 출력)\n",
        "\n",
        "\n",
        "\n"
      ],
      "execution_count": null,
      "outputs": []
    },
    {
      "cell_type": "markdown",
      "metadata": {
        "id": "3AnRvY7AjCVx"
      },
      "source": [
        "<img src = 'https://github.com/Ahnjihye/allinone_AI/blob/images/10_%EC%84%A0%ED%83%9D%EA%B5%AC%EC%A1%B0%20%EB%8F%99%EC%9E%91%EC%9B%90%EB%A6%AC.png?raw=true' width =800>"
      ]
    },
    {
      "cell_type": "code",
      "metadata": {
        "id": "YX69e0-HjVBN"
      },
      "source": [
        "# 실습 3\n",
        "# 인터넷 쇼핑몰에서 구매금액이 5만원 미만일 경우\n",
        "# 배송비 2500원을 더 결제해야 한다. \n",
        "# 구매금액을 입력받아, 총 결제금액을 출력하시오\n",
        "\n",
        "\n",
        "\n"
      ],
      "execution_count": null,
      "outputs": []
    },
    {
      "cell_type": "markdown",
      "metadata": {
        "id": "5UoZCtxCjQsE"
      },
      "source": [
        "# 3. 조건을 만드는 비교연산자\n",
        "\n",
        "```\n",
        "if a > b :        # a가 b보다 크다면\n",
        "if a >= b :       # a가 b보다 크거나 같다면\n",
        "if a < b :        # a가 b보다 작다면\n",
        "if a <= b :       # a가 b보다 작거나 같다면\n",
        "```\n",
        "**헷갈리기 쉬운 비교연산자**\n",
        "```\n",
        "if a == b :       # a와 b가 같다면\n",
        "if a != b :       # a와 b가 같지 않다면\n",
        "```\n",
        "\n"
      ]
    },
    {
      "cell_type": "code",
      "metadata": {
        "id": "IQS3G9PRhwTS"
      },
      "source": [
        "# 평일, 주말 여부를 입력받고\n",
        "# 평일이라면 아침 7시 기상! 주말이라면 아침 10시 기상을 출력하시오\n",
        "\n",
        "\n"
      ],
      "execution_count": null,
      "outputs": []
    },
    {
      "cell_type": "code",
      "metadata": {
        "id": "0ZoCjXlX-R_t"
      },
      "source": [
        "# 실습 4\n",
        "# 숫자 하나를 입력받고, 해당 숫자가 홀수라면 '홀수입니다' 출력\n",
        "# 짝수라면 '짝수입니다'를 출력하시오\n",
        "\n",
        "\n"
      ],
      "execution_count": null,
      "outputs": []
    },
    {
      "cell_type": "markdown",
      "metadata": {
        "id": "q6Og10fmCgjg"
      },
      "source": [
        "<img src = 'https://github.com/Ahnjihye/allinone_AI/blob/images/11_%EC%84%A0%ED%83%9D%EA%B5%AC%EC%A1%B0_%EC%B0%A8%EB%9F%89%EC%9D%B4%EB%B6%80%EC%A0%9C.png?raw=true' width = 800>"
      ]
    },
    {
      "cell_type": "markdown",
      "metadata": {
        "id": "xJvaY1-4q3zB"
      },
      "source": [
        "# 4. 조건을 충족하지 않을 때 실행하는 명령어 if-else \n",
        "\n",
        "\n",
        "<img src = 'https://github.com/Ahnjihye/allinone_AI/blob/images/11_%EC%84%A0%ED%83%9D%EA%B5%AC%EC%A1%B02%20-%20%EC%98%88%EC%8B%9C.png?raw=true' width = 300>\n",
        "\n",
        "<img src = 'https://github.com/Ahnjihye/allinone_AI/blob/images/11_%EC%84%A0%ED%83%9D%EA%B5%AC%EC%A1%B02.png?raw=true' width= 500>"
      ]
    },
    {
      "cell_type": "code",
      "metadata": {
        "id": "nHn8Pn6NhwaF"
      },
      "source": [
        "# 위 코드 바꿔보기 \n",
        "# 숫자 하나를 입력받고, 해당 숫자가 홀수라면 '홀수입니다' 출력\n",
        "# 짝수라면 '짝수입니다'를 출력하시오\n",
        "\n",
        "\n",
        "\n"
      ],
      "execution_count": null,
      "outputs": []
    },
    {
      "cell_type": "code",
      "metadata": {
        "id": "HxzLlEX6hwXf"
      },
      "source": [
        "# 실습 5\n",
        "# 차량 이부제 프로그래밍\n",
        "# 오늘 일자를 입력받고, 오늘이 짝수날이라면 '짝수번호 차량만 통행 가능합니다.' 출력\n",
        "# 오늘이 홀수날이라면 '홀수번호 차량만 통행가능합니다.' 출력\n",
        "\n",
        "\n"
      ],
      "execution_count": null,
      "outputs": []
    },
    {
      "cell_type": "code",
      "metadata": {
        "id": "Lbarsr94hwcP"
      },
      "source": [
        "# 실습 6\n",
        "# 목욕탕 입장료는 미성년자가 6000원, 성인이 15000원이다. \n",
        "# 나이를 입력받아 나이에 맞는 목욕탕 입장료를 출력하시오\n",
        "# 단, 나이를 저장하는 변수는 age, 목욕탕 입장료를 저장하는 변수는 price이다. \n",
        "\n",
        "\n"
      ],
      "execution_count": null,
      "outputs": []
    },
    {
      "cell_type": "code",
      "metadata": {
        "id": "amuf2uc8hwt7"
      },
      "source": [
        ""
      ],
      "execution_count": null,
      "outputs": []
    }
  ]
}